{
 "cells": [
  {
   "cell_type": "code",
   "execution_count": 1,
   "id": "4fefe612",
   "metadata": {},
   "outputs": [
    {
     "name": "stderr",
     "output_type": "stream",
     "text": [
      "/home/gbrun/miniforge3/envs/vllm/lib/python3.12/site-packages/tqdm/auto.py:21: TqdmWarning: IProgress not found. Please update jupyter and ipywidgets. See https://ipywidgets.readthedocs.io/en/stable/user_install.html\n",
      "  from .autonotebook import tqdm as notebook_tqdm\n"
     ]
    },
    {
     "name": "stdout",
     "output_type": "stream",
     "text": [
      "INFO 05-06 19:10:39 [__init__.py:207] Automatically detected platform cuda.\n"
     ]
    },
    {
     "name": "stderr",
     "output_type": "stream",
     "text": [
      "2025-05-06 19:10:39,359\tINFO util.py:154 -- Missing packages: ['ipywidgets']. Run `pip install -U ipywidgets`, then restart the notebook server for rich notebook output.\n"
     ]
    }
   ],
   "source": [
    "from datasets import load_dataset\n",
    "import time\n",
    "from tqdm import tqdm\n",
    "import numpy as np\n",
    "import pandas as pd\n",
    "import matplotlib.pyplot as plt\n",
    "from vllm import LLM, SamplingParams"
   ]
  },
  {
   "cell_type": "code",
   "execution_count": 2,
   "id": "9bfdcba8",
   "metadata": {},
   "outputs": [],
   "source": [
    "# 10103 for 10,000 actual\n",
    "\n",
    "\n",
    "ds = load_dataset(\"lmsys/lmsys-chat-1m\", split=f\"train[0:1015]\")"
   ]
  },
  {
   "cell_type": "code",
   "execution_count": 3,
   "id": "3d689128",
   "metadata": {},
   "outputs": [],
   "source": [
    "def chat_len(chat):\n",
    "    return sum([len(msg['content']) for msg in chat])\n",
    "\n",
    "inputs = []\n",
    "sampling_params = []\n",
    "\n",
    "input_lengths = []\n",
    "output_lengths = []\n",
    "\n",
    "for chat in ds['conversation']:\n",
    "    input_chat = chat[:-1]\n",
    "    output_chat = chat[-1]\n",
    "\n",
    "    in_len = chat_len(input_chat)\n",
    "    out_len = chat_len([output_chat])\n",
    "\n",
    "    #skip samples that are too long\n",
    "    if in_len > 10000 or out_len > 10000:\n",
    "        continue\n",
    "\n",
    "    inputs.append(input_chat)\n",
    "    input_lengths.append(in_len)\n",
    "    output_lengths.append(out_len)\n",
    "\n",
    "    sampling_params.append(SamplingParams(\n",
    "                n=1,\n",
    "                temperature= 1.0,\n",
    "                top_p=1.0,\n",
    "                ignore_eos=True,\n",
    "                max_tokens= max(output_lengths[-1]//4,64),\n",
    "            ))"
   ]
  },
  {
   "cell_type": "code",
   "execution_count": 4,
   "id": "195b5c7c",
   "metadata": {},
   "outputs": [
    {
     "data": {
      "text/plain": [
       "1000"
      ]
     },
     "execution_count": 4,
     "metadata": {},
     "output_type": "execute_result"
    }
   ],
   "source": [
    "len(input_lengths)"
   ]
  },
  {
   "cell_type": "code",
   "execution_count": 5,
   "id": "7d21247f",
   "metadata": {},
   "outputs": [
    {
     "name": "stderr",
     "output_type": "stream",
     "text": [
      "/tmp/ipykernel_166918/4102317643.py:4: RuntimeWarning: divide by zero encountered in log\n",
      "  plt.scatter(np.log(input_lengths), np.log(output_lengths), s =1 )\n"
     ]
    },
    {
     "data": {
      "text/plain": [
       "<matplotlib.collections.PathCollection at 0xfffe22515400>"
      ]
     },
     "execution_count": 5,
     "metadata": {},
     "output_type": "execute_result"
    },
    {
     "data": {
      "image/png": "[encoded data removed]",
      "text/plain": [
       "<Figure size 640x480 with 1 Axes>"
      ]
     },
     "metadata": {},
     "output_type": "display_data"
    }
   ],
   "source": [
    "input_lengths = np.array(input_lengths)\n",
    "output_lengths = np.array(output_lengths)\n",
    "\n",
    "plt.scatter(np.log(input_lengths), np.log(output_lengths), s =1 )"
   ]
  },
  {
   "cell_type": "code",
   "execution_count": 6,
   "id": "e59cc347",
   "metadata": {},
   "outputs": [],
   "source": [
    "model_name = 'Qwen/Qwen2.5-14B-Instruct'"
   ]
  },
  {
   "cell_type": "code",
   "execution_count": 7,
   "id": "56923c22",
   "metadata": {},
   "outputs": [
    {
     "name": "stdout",
     "output_type": "stream",
     "text": [
      "INFO 05-06 19:10:48 [config.py:575] This model supports multiple tasks: {'score', 'reward', 'generate', 'embed', 'classify'}. Defaulting to 'generate'.\n",
      "INFO 05-06 19:10:48 [config.py:1485] Defaulting to use mp for distributed inference\n",
      "INFO 05-06 19:10:48 [config.py:1660] Chunked prefill is enabled with max_num_batched_tokens=2048.\n",
      "INFO 05-06 19:10:48 [llm_engine.py:235] Initializing a V0 LLM engine (v0.7.4.dev172+gd54990da.d20250302) with config: model='Qwen/Qwen2.5-14B-Instruct', speculative_config=None, tokenizer='Qwen/Qwen2.5-14B-Instruct', skip_tokenizer_init=False, tokenizer_mode=auto, revision=None, override_neuron_config=None, tokenizer_revision=None, trust_remote_code=True, dtype=torch.bfloat16, max_seq_len=32768, download_dir=None, load_format=LoadFormat.AUTO, tensor_parallel_size=1, pipeline_parallel_size=2, disable_custom_all_reduce=False, quantization=None, enforce_eager=True, kv_cache_dtype=auto,  device_config=cuda, decoding_config=DecodingConfig(guided_decoding_backend='xgrammar'), observability_config=ObservabilityConfig(show_hidden_metrics=False, otlp_traces_endpoint=None, collect_model_forward_time=False, collect_model_execute_time=False), seed=0, served_model_name=Qwen/Qwen2.5-14B-Instruct, num_scheduler_steps=1, multi_step_stream_outputs=True, enable_prefix_caching=True, chunked_prefill_enabled=True, use_async_output_proc=False, disable_mm_preprocessor_cache=False, mm_processor_kwargs=None, pooler_config=None, compilation_config={\"splitting_ops\":[],\"compile_sizes\":[],\"cudagraph_capture_sizes\":[],\"max_capture_size\":0}, use_cached_outputs=False, \n",
      "WARNING 05-06 19:10:49 [multiproc_worker_utils.py:309] Reducing Torch parallelism from 80 threads to 1 to avoid unnecessary CPU contention. Set OMP_NUM_THREADS in the external environment to tune this value as needed.\n",
      "INFO 05-06 19:10:49 [custom_cache_manager.py:19] Setting Triton cache manager to: vllm.triton_utils.custom_cache_manager:CustomCacheManager\n",
      "\u001b[1;36m(VllmWorkerProcess pid=167186)\u001b[0;0m INFO 05-06 19:10:49 [multiproc_worker_utils.py:229] Worker ready; awaiting tasks\n",
      "INFO 05-06 19:10:50 [cuda.py:268] Using Flash Attention backend.\n",
      "\u001b[1;36m(VllmWorkerProcess pid=167186)\u001b[0;0m INFO 05-06 19:10:50 [cuda.py:268] Using Flash Attention backend.\n",
      "INFO 05-06 19:10:51 [utils.py:939] Found nccl from library libnccl.so.2\n",
      "ERROR 05-06 19:10:51 [pynccl_wrapper.py:229] Failed to load NCCL library from libnccl.so.2. It is expected if you are not running on NVIDIA/AMD GPUs.Otherwise, the nccl library might not exist, be corrupted or it does not support the current platform Linux-5.15.0-105-generic-aarch64-with-glibc2.35. If you already have the library, please set the environment variable VLLM_NCCL_SO_PATH to point to the correct nccl library path.\n",
      "\u001b[1;36m(VllmWorkerProcess pid=167186)\u001b[0;0m INFO 05-06 19:10:51 [utils.py:939] Found nccl from library libnccl.so.2\n",
      "\u001b[1;36m(VllmWorkerProcess pid=167186)\u001b[0;0m INFO 05-06 19:10:51 [parallel_state.py:948] rank 0 in world size 2 is assigned as DP rank 0, PP rank 0, TP rank 0\n",
      "ERROR 05-06 19:10:51 [pynccl_wrapper.py:229] Failed to load NCCL library from libnccl.so.2. It is expected if you are not running on NVIDIA/AMD GPUs.Otherwise, the nccl library might not exist, be corrupted or it does not support the current platform Linux-5.15.0-105-generic-aarch64-with-glibc2.35. If you already have the library, please set the environment variable VLLM_NCCL_SO_PATH to point to the correct nccl library path.\n",
      "\u001b[1;36m(VllmWorkerProcess pid=167186)\u001b[0;0m INFO 05-06 19:10:51 [parallel_state.py:948] rank 1 in world size 2 is assigned as DP rank 0, PP rank 1, TP rank 0\n",
      "INFO 05-06 19:10:51 [model_runner.py:1110] Starting to load model Qwen/Qwen2.5-14B-Instruct...\n",
      "\u001b[1;36m(VllmWorkerProcess pid=167186)\u001b[0;0m INFO 05-06 19:10:51 [model_runner.py:1110] Starting to load model Qwen/Qwen2.5-14B-Instruct...\n",
      "\u001b[1;36m(VllmWorkerProcess pid=167186)\u001b[0;0m INFO 05-06 19:10:51 [weight_utils.py:257] Using model weights format ['*.safetensors']\n",
      "INFO 05-06 19:10:51 [weight_utils.py:257] Using model weights format ['*.safetensors']\n"
     ]
    },
    {
     "name": "stderr",
     "output_type": "stream",
     "text": [
      "Loading safetensors checkpoint shards:   0% Completed | 0/8 [00:00<?, ?it/s]\n",
      "Loading safetensors checkpoint shards:  38% Completed | 3/8 [00:00<00:00,  7.26it/s]\n",
      "Loading safetensors checkpoint shards:  50% Completed | 4/8 [00:01<00:01,  3.47it/s]\n",
      "Loading safetensors checkpoint shards:  62% Completed | 5/8 [00:01<00:00,  4.30it/s]\n",
      "Loading safetensors checkpoint shards:  75% Completed | 6/8 [00:01<00:00,  3.03it/s]\n",
      "Loading safetensors checkpoint shards:  88% Completed | 7/8 [00:02<00:00,  2.33it/s]\n",
      "Loading safetensors checkpoint shards: 100% Completed | 8/8 [00:02<00:00,  2.96it/s]\n",
      "Loading safetensors checkpoint shards: 100% Completed | 8/8 [00:02<00:00,  3.26it/s]\n",
      "\n"
     ]
    },
    {
     "name": "stdout",
     "output_type": "stream",
     "text": [
      "\u001b[1;36m(VllmWorkerProcess pid=167186)\u001b[0;0m INFO 05-06 19:10:54 [model_runner.py:1117] Loading model weights took 13.7879 GB and 2.865004 seconds\n",
      "INFO 05-06 19:10:54 [model_runner.py:1117] Loading model weights took 13.7879 GB and 2.778730 seconds\n",
      "\u001b[1;36m(VllmWorkerProcess pid=167186)\u001b[0;0m INFO 05-06 19:10:55 [worker.py:267] Memory profiling takes 0.63 seconds\n",
      "\u001b[1;36m(VllmWorkerProcess pid=167186)\u001b[0;0m INFO 05-06 19:10:55 [worker.py:267] the current vLLM instance can use total_gpu_memory (39.38GiB) x gpu_memory_utilization (0.90) = 35.44GiB\n",
      "INFO 05-06 19:10:55 [worker.py:267] Memory profiling takes 0.68 seconds\n",
      "INFO 05-06 19:10:55 [worker.py:267] the current vLLM instance can use total_gpu_memory (39.38GiB) x gpu_memory_utilization (0.90) = 35.44GiB\n",
      "INFO 05-06 19:10:55 [worker.py:267] model weights take 13.79GiB; non_torch_memory takes 0.09GiB; PyTorch activation peak memory takes 0.24GiB; the rest of the memory reserved for KV Cache is 21.32GiB.\n",
      "\u001b[1;36m(VllmWorkerProcess pid=167186)\u001b[0;0m INFO 05-06 19:10:55 [executor_base.py:111] # cuda blocks: 13732, # CPU blocks: 2730\n",
      "INFO 05-06 19:10:55 [executor_base.py:116] Maximum concurrency for 32768 tokens per request: 6.71x\n",
      "INFO 05-06 19:10:55 [worker.py:267] model weights take 13.79GiB; non_torch_memory takes 0.09GiB; PyTorch activation peak memory takes 1.45GiB; the rest of the memory reserved for KV Cache is 20.12GiB.\n",
      "INFO 05-06 19:10:58 [llm_engine.py:441] init engine (profile, create kv cache, warmup model) took 4.08 seconds\n"
     ]
    }
   ],
   "source": [
    "import torch\n",
    "torch._dynamo.config.suppress_errors = True\n",
    "\n",
    "llm = LLM(\n",
    "        model=model_name,\n",
    "        speculative_model=None,\n",
    "        num_speculative_tokens=None,\n",
    "        speculative_draft_tensor_parallel_size=None,\n",
    "        tokenizer=None,\n",
    "        quantization=None,\n",
    "        tensor_parallel_size=1,\n",
    "        pipeline_parallel_size=2,\n",
    "        trust_remote_code=True,\n",
    "        dtype='bfloat16',\n",
    "        # max_model_len=4096 ,\n",
    "        enforce_eager=True,\n",
    "        kv_cache_dtype='auto',\n",
    "        device='cuda',\n",
    "        block_size=16,\n",
    "        enable_chunked_prefill=True,\n",
    "        gpu_memory_utilization=0.90,\n",
    "        load_format='auto',\n",
    "        distributed_executor_backend=None,\n",
    "        enable_prefix_caching=True,\n",
    "        disable_sliding_window=False,\n",
    "    )"
   ]
  },
  {
   "cell_type": "code",
   "execution_count": 9,
   "id": "3b777587",
   "metadata": {},
   "outputs": [
    {
     "name": "stdout",
     "output_type": "stream",
     "text": [
      "WARNING 05-06 19:11:19 [chat_utils.py:825] Skipping multimodal part (type: 'text') with empty / unparsable content.\n"
     ]
    },
    {
     "name": "stderr",
     "output_type": "stream",
     "text": []
    },
    {
     "ename": "NotImplementedError",
     "evalue": "Pipeline parallelism is only supported through AsyncLLMEngine as performance will be severely degraded otherwise.",
     "output_type": "error",
     "traceback": [
      "\u001b[31m---------------------------------------------------------------------------\u001b[39m",
      "\u001b[31mNotImplementedError\u001b[39m                       Traceback (most recent call last)",
      "\u001b[36mCell\u001b[39m\u001b[36m \u001b[39m\u001b[32mIn[9]\u001b[39m\u001b[32m, line 3\u001b[39m\n\u001b[32m      1\u001b[39m \u001b[38;5;66;03m# warm_up\u001b[39;00m\n\u001b[32m----> \u001b[39m\u001b[32m3\u001b[39m results = \u001b[43mllm\u001b[49m\u001b[43m.\u001b[49m\u001b[43mchat\u001b[49m\u001b[43m(\u001b[49m\n\u001b[32m      4\u001b[39m \u001b[43m    \u001b[49m\u001b[43minputs\u001b[49m\u001b[43m[\u001b[49m\u001b[32;43m0\u001b[39;49m\u001b[43m:\u001b[49m\u001b[32;43m50\u001b[39;49m\u001b[43m]\u001b[49m\u001b[43m,\u001b[49m\n\u001b[32m      5\u001b[39m \u001b[43m    \u001b[49m\u001b[43msampling_params\u001b[49m\u001b[43m=\u001b[49m\u001b[43msampling_params\u001b[49m\u001b[43m[\u001b[49m\u001b[32;43m0\u001b[39;49m\u001b[43m:\u001b[49m\u001b[32;43m50\u001b[39;49m\u001b[43m]\u001b[49m\u001b[43m,\u001b[49m\n\u001b[32m      6\u001b[39m \u001b[43m    \u001b[49m\u001b[43muse_tqdm\u001b[49m\u001b[43m=\u001b[49m\u001b[38;5;28;43;01mTrue\u001b[39;49;00m\n\u001b[32m      7\u001b[39m \u001b[43m)\u001b[49m\n",
      "\u001b[36mFile \u001b[39m\u001b[32m~/vllm/vllm/entrypoints/llm.py:749\u001b[39m, in \u001b[36mLLM.chat\u001b[39m\u001b[34m(self, messages, sampling_params, use_tqdm, lora_request, chat_template, chat_template_content_format, add_generation_prompt, continue_final_message, tools, mm_processor_kwargs)\u001b[39m\n\u001b[32m    745\u001b[39m         prompt[\u001b[33m\"\u001b[39m\u001b[33mmm_processor_kwargs\u001b[39m\u001b[33m\"\u001b[39m] = mm_processor_kwargs\n\u001b[32m    747\u001b[39m     prompts.append(prompt)\n\u001b[32m--> \u001b[39m\u001b[32m749\u001b[39m \u001b[38;5;28;01mreturn\u001b[39;00m \u001b[38;5;28;43mself\u001b[39;49m\u001b[43m.\u001b[49m\u001b[43mgenerate\u001b[49m\u001b[43m(\u001b[49m\n\u001b[32m    750\u001b[39m \u001b[43m    \u001b[49m\u001b[43mprompts\u001b[49m\u001b[43m,\u001b[49m\n\u001b[32m    751\u001b[39m \u001b[43m    \u001b[49m\u001b[43msampling_params\u001b[49m\u001b[43m=\u001b[49m\u001b[43msampling_params\u001b[49m\u001b[43m,\u001b[49m\n\u001b[32m    752\u001b[39m \u001b[43m    \u001b[49m\u001b[43muse_tqdm\u001b[49m\u001b[43m=\u001b[49m\u001b[43muse_tqdm\u001b[49m\u001b[43m,\u001b[49m\n\u001b[32m    753\u001b[39m \u001b[43m    \u001b[49m\u001b[43mlora_request\u001b[49m\u001b[43m=\u001b[49m\u001b[43mlora_request\u001b[49m\u001b[43m,\u001b[49m\n\u001b[32m    754\u001b[39m \u001b[43m\u001b[49m\u001b[43m)\u001b[49m\n",
      "\u001b[36mFile \u001b[39m\u001b[32m~/vllm/vllm/utils.py:1080\u001b[39m, in \u001b[36mdeprecate_kwargs.<locals>.wrapper.<locals>.inner\u001b[39m\u001b[34m(*args, **kwargs)\u001b[39m\n\u001b[32m   1073\u001b[39m             msg += \u001b[33mf\u001b[39m\u001b[33m\"\u001b[39m\u001b[33m \u001b[39m\u001b[38;5;132;01m{\u001b[39;00madditional_message\u001b[38;5;132;01m}\u001b[39;00m\u001b[33m\"\u001b[39m\n\u001b[32m   1075\u001b[39m         warnings.warn(\n\u001b[32m   1076\u001b[39m             \u001b[38;5;167;01mDeprecationWarning\u001b[39;00m(msg),\n\u001b[32m   1077\u001b[39m             stacklevel=\u001b[32m3\u001b[39m,  \u001b[38;5;66;03m# The inner function takes up one level\u001b[39;00m\n\u001b[32m   1078\u001b[39m         )\n\u001b[32m-> \u001b[39m\u001b[32m1080\u001b[39m \u001b[38;5;28;01mreturn\u001b[39;00m \u001b[43mfn\u001b[49m\u001b[43m(\u001b[49m\u001b[43m*\u001b[49m\u001b[43margs\u001b[49m\u001b[43m,\u001b[49m\u001b[43m \u001b[49m\u001b[43m*\u001b[49m\u001b[43m*\u001b[49m\u001b[43mkwargs\u001b[49m\u001b[43m)\u001b[49m\n",
      "\u001b[36mFile \u001b[39m\u001b[32m~/vllm/vllm/entrypoints/llm.py:470\u001b[39m, in \u001b[36mLLM.generate\u001b[39m\u001b[34m(self, prompts, sampling_params, prompt_token_ids, use_tqdm, lora_request, prompt_adapter_request, guided_options_request, priority)\u001b[39m\n\u001b[32m    460\u001b[39m     sampling_params = \u001b[38;5;28mself\u001b[39m.get_default_sampling_params()\n\u001b[32m    462\u001b[39m \u001b[38;5;28mself\u001b[39m._validate_and_add_requests(\n\u001b[32m    463\u001b[39m     prompts=parsed_prompts,\n\u001b[32m    464\u001b[39m     params=sampling_params,\n\u001b[32m   (...)\u001b[39m\u001b[32m    467\u001b[39m     guided_options=guided_options_request,\n\u001b[32m    468\u001b[39m     priority=priority)\n\u001b[32m--> \u001b[39m\u001b[32m470\u001b[39m outputs = \u001b[38;5;28;43mself\u001b[39;49m\u001b[43m.\u001b[49m\u001b[43m_run_engine\u001b[49m\u001b[43m(\u001b[49m\u001b[43muse_tqdm\u001b[49m\u001b[43m=\u001b[49m\u001b[43muse_tqdm\u001b[49m\u001b[43m)\u001b[49m\n\u001b[32m    471\u001b[39m \u001b[38;5;28;01mreturn\u001b[39;00m \u001b[38;5;28mself\u001b[39m.engine_class.validate_outputs(outputs, RequestOutput)\n",
      "\u001b[36mFile \u001b[39m\u001b[32m~/vllm/vllm/entrypoints/llm.py:1377\u001b[39m, in \u001b[36mLLM._run_engine\u001b[39m\u001b[34m(self, use_tqdm)\u001b[39m\n\u001b[32m   1375\u001b[39m total_out_toks = \u001b[32m0\u001b[39m\n\u001b[32m   1376\u001b[39m \u001b[38;5;28;01mwhile\u001b[39;00m \u001b[38;5;28mself\u001b[39m.llm_engine.has_unfinished_requests():\n\u001b[32m-> \u001b[39m\u001b[32m1377\u001b[39m     step_outputs = \u001b[38;5;28;43mself\u001b[39;49m\u001b[43m.\u001b[49m\u001b[43mllm_engine\u001b[49m\u001b[43m.\u001b[49m\u001b[43mstep\u001b[49m\u001b[43m(\u001b[49m\u001b[43m)\u001b[49m\n\u001b[32m   1378\u001b[39m     \u001b[38;5;28;01mfor\u001b[39;00m output \u001b[38;5;129;01min\u001b[39;00m step_outputs:\n\u001b[32m   1379\u001b[39m         \u001b[38;5;28;01mif\u001b[39;00m output.finished:\n",
      "\u001b[36mFile \u001b[39m\u001b[32m~/vllm/vllm/engine/llm_engine.py:1319\u001b[39m, in \u001b[36mLLMEngine.step\u001b[39m\u001b[34m(self)\u001b[39m\n\u001b[32m   1268\u001b[39m \u001b[38;5;250m\u001b[39m\u001b[33;03m\"\"\"Performs one decoding iteration and returns newly generated results.\u001b[39;00m\n\u001b[32m   1269\u001b[39m \n\u001b[32m   1270\u001b[39m \u001b[33;03m.. figure:: https://i.imgur.com/sv2HssD.png\u001b[39;00m\n\u001b[32m   (...)\u001b[39m\u001b[32m   1316\u001b[39m \u001b[33;03m    >>>         break\u001b[39;00m\n\u001b[32m   1317\u001b[39m \u001b[33;03m\"\"\"\u001b[39;00m\n\u001b[32m   1318\u001b[39m \u001b[38;5;28;01mif\u001b[39;00m \u001b[38;5;28mself\u001b[39m.parallel_config.pipeline_parallel_size > \u001b[32m1\u001b[39m:\n\u001b[32m-> \u001b[39m\u001b[32m1319\u001b[39m     \u001b[38;5;28;01mraise\u001b[39;00m \u001b[38;5;167;01mNotImplementedError\u001b[39;00m(\n\u001b[32m   1320\u001b[39m         \u001b[33m\"\u001b[39m\u001b[33mPipeline parallelism is only supported through AsyncLLMEngine \u001b[39m\u001b[33m\"\u001b[39m\n\u001b[32m   1321\u001b[39m         \u001b[33m\"\u001b[39m\u001b[33mas performance will be severely degraded otherwise.\u001b[39m\u001b[33m\"\u001b[39m)\n\u001b[32m   1323\u001b[39m \u001b[38;5;66;03m# For llm_engine, there is no pipeline parallel support, so the engine\u001b[39;00m\n\u001b[32m   1324\u001b[39m \u001b[38;5;66;03m# used is always 0.\u001b[39;00m\n\u001b[32m   1325\u001b[39m virtual_engine = \u001b[32m0\u001b[39m\n",
      "\u001b[31mNotImplementedError\u001b[39m: Pipeline parallelism is only supported through AsyncLLMEngine as performance will be severely degraded otherwise."
     ]
    }
   ],
   "source": [
    "# warm_up\n",
    "\n",
    "results = llm.chat(\n",
    "    inputs[0:50],\n",
    "    sampling_params=sampling_params[0:50],\n",
    "    use_tqdm=True\n",
    ")"
   ]
  },
  {
   "cell_type": "code",
   "execution_count": null,
   "id": "0a725905",
   "metadata": {},
   "outputs": [],
   "source": [
    "from power_utils import gpuPowerProbe\n",
    "\n",
    "gpus = 2\n",
    "interval = 1\n",
    "\n",
    "inference_powers = []\n",
    "inference_powers_time = []\n",
    "power_avgs = []\n",
    "power_peaks = []\n",
    "energies = []\n",
    "power_profiles = []\n",
    "\n",
    "for id in range(gpus):\n",
    "    power_profiles.append(gpuPowerProbe(interval=interval, gpu_id=id))\n",
    "    power_profiles[id].start()\n",
    "\n",
    "results = llm.chat(\n",
    "    inputs,\n",
    "    sampling_params=sampling_params,\n",
    "    use_tqdm=True\n",
    ")\n",
    "\n",
    "for power_profile in power_profiles:\n",
    "    power, times = power_profile.stop()\n",
    "    inference_powers.append(power)\n",
    "    inference_powers_time.append(times)\n",
    "    power_profile.destroy()\n",
    "\n",
    "print(\"\\n----------------Power-----------------------\")\n",
    "for id in range(gpus):\n",
    "    print(f\"GPU {id}:\")\n",
    "    power = np.array(inference_powers[id]) / 1000  # to Watt\n",
    "    times = np.array(inference_powers_time[id])\n",
    "    avg_power = np.mean(power)\n",
    "    peak_power = np.max(power)\n",
    "    energy = np.sum(power*times)\n",
    "\n",
    "    power_avgs.append(avg_power)\n",
    "    power_peaks.append(peak_power)\n",
    "    energies.append(energy)\n",
    "\n",
    "    print(f\"    Power avg : {avg_power :.3f} W\")\n",
    "    print(f\"    Power peak: {peak_power :.3f} W\")\n",
    "    print(f\"    Energy    : {energy :.3f} J\")\n",
    "    plt.figsize(4,12)\n",
    "    plt.plot(np.cumsum(inference_powers_time[id]), power, label=f'GPU {id}')\n",
    "\n",
    "    plt.title(\"Power consumption\")\n",
    "    plt.legend()\n",
    "    plt.xlabel(f'Time ({interval} sec intervals)')\n",
    "    plt.ylabel('Power Consumption (W)')\n",
    "    plt.savefig('gpu_power_plot.png')"
   ]
  },
  {
   "cell_type": "code",
   "execution_count": null,
   "id": "11187c3b",
   "metadata": {},
   "outputs": [],
   "source": [
    "ttfts = []\n",
    "latencies = []\n",
    "latencies_with_queue = []\n",
    "decode_times = []\n",
    "queue_times = []\n",
    "\n",
    "input_tokens = []\n",
    "output_tokens = []\n",
    "\n",
    "start = results[0].metrics.first_scheduled_time\n",
    "end = 0\n",
    "\n",
    "for resp in results:\n",
    "    end = max(end, resp.metrics.finished_time)\n",
    "    # Time to first token (TTFT):\n",
    "    ttfts.append(resp.metrics.first_token_time - resp.metrics.first_scheduled_time)\n",
    "    latencies.append(resp.metrics.finished_time - resp.metrics.first_scheduled_time)\n",
    "    # Total end-to-end latency:\n",
    "    latencies_with_queue.append(resp.metrics.finished_time - resp.metrics.arrival_time)\n",
    "    # Decode duration (after first token):\n",
    "    decode_times.append(resp.metrics.last_token_time - resp.metrics.first_token_time)\n",
    "    # Queue wait time:\n",
    "    queue_times.append(resp.metrics.time_in_queue)\n",
    "\n",
    "    input_tokens.append(len(resp.prompt_token_ids))\n",
    "    output_tokens.append(len(resp.outputs[0].token_ids))\n",
    "\n",
    "latency_overall = end - start\n",
    "\n",
    "tp_overall = (np.sum(input_tokens) + np.sum(output_tokens)) / latency_overall\n",
    "out_tp_overall = np.sum(output_tokens) / latency_overall\n",
    "in_tp_overall = np.sum(input_tokens)  / latency_overall\n",
    "\n",
    "ttfts = np.array(ttfts)\n",
    "latencies = np.array(latencies)\n",
    "latencies_with_queue = np.array(latencies_with_queue)\n",
    "decode_times = np.array(decode_times)\n",
    "queue_times = np.array(queue_times)\n",
    "\n",
    "input_tokens = np.array(input_tokens)\n",
    "output_tokens = np.array(output_tokens)\n",
    "\n",
    "throughputs = (input_tokens + output_tokens) / decode_times\n",
    "out_throughputs = (output_tokens) / decode_times"
   ]
  },
  {
   "cell_type": "code",
   "execution_count": null,
   "id": "0bc78b46",
   "metadata": {},
   "outputs": [],
   "source": [
    "in_tp_overall, out_tp_overall"
   ]
  }
 ],
 "metadata": {
  "kernelspec": {
   "display_name": "vllm",
   "language": "python",
   "name": "python3"
  },
  "language_info": {
   "codemirror_mode": {
    "name": "ipython",
    "version": 3
   },
   "file_extension": ".py",
   "mimetype": "text/x-python",
   "name": "python",
   "nbconvert_exporter": "python",
   "pygments_lexer": "ipython3",
   "version": "3.12.9"
  }
 },
 "nbformat": 4,
 "nbformat_minor": 5
}
