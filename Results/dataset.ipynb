{
 "cells": [
  {
   "cell_type": "code",
   "execution_count": 2,
   "id": "0dbd720c",
   "metadata": {},
   "outputs": [
    {
     "name": "stderr",
     "output_type": "stream",
     "text": [
      "/home/gbrun/miniforge3/lib/python3.12/site-packages/tqdm/auto.py:21: TqdmWarning: IProgress not found. Please update jupyter and ipywidgets. See https://ipywidgets.readthedocs.io/en/stable/user_install.html\n",
      "  from .autonotebook import tqdm as notebook_tqdm\n",
      "None of PyTorch, TensorFlow >= 2.0, or Flax have been found. Models won't be available and only tokenizers, configuration and file/data utilities can be used.\n"
     ]
    }
   ],
   "source": [
    "import datasets\n",
    "import matplotlib\n",
    "from datasets import Dataset\n",
    "from transformers import AutoTokenizer\n",
    "import matplotlib.pylab as plt\n",
    "import numpy as np"
   ]
  },
  {
   "cell_type": "code",
   "execution_count": null,
   "id": "41ba3c27",
   "metadata": {},
   "outputs": [],
   "source": [
    "def chat_len(chat):\n",
    "    return sum([len(msg['content']) for msg in chat])\n",
    "\n",
    "def process_dataset(ds, model_name, logprobs = False):\n",
    "    \"\"\"\n",
    "    Take a chat dataset as input and return input messages ans Sampling Parameters for the result\n",
    "    \"\"\"\n",
    "    inputs = []\n",
    "    outputs = []\n",
    "\n",
    "    for chat in ds[\"conversation\"]:\n",
    "        # Take everything except last message as \"input\", last message as \"response\"\n",
    "        input_chat = chat[:-1]\n",
    "        response = chat[-1]\n",
    "\n",
    "        in_len = chat_len(input_chat)\n",
    "        out_len = chat_len([response])\n",
    "\n",
    "        # Only keep examples whose input/output lengths are between 64 and 20,000 chars\n",
    "        if 64 <= in_len <= 20000 and 64 <= out_len <= 20000:\n",
    "            inputs.append(input_chat)\n",
    "            outputs.append(response)\n",
    "\n",
    "    # Create a small Dataset from the filtered outputs\n",
    "    outputs_ds = Dataset.from_list(outputs)\n",
    "\n",
    "    tokenizer = AutoTokenizer.from_pretrained(model_name, use_fast=True)\n",
    "\n",
    "    def len_in_tokens(batch):\n",
    "        enc = tokenizer(\n",
    "            batch[\"content\"],\n",
    "            truncation=False,\n",
    "            padding=False,\n",
    "            return_attention_mask=False,\n",
    "        )\n",
    "        return {\"out_len\": [len(ids) for ids in enc[\"input_ids\"]]}\n",
    "\n",
    "    out_lengths_ds = outputs_ds.map(\n",
    "        len_in_tokens,\n",
    "        batched=True,\n",
    "        batch_size=256,\n",
    "        num_proc=64\n",
    "    )\n",
    "\n",
    "    out_lengths = out_lengths_ds[\"out_len\"]\n",
    "\n",
    "    # Make sure we still have exactly 1,000 examples after filtering\n",
    "    # assert len(inputs) == len(sampling_params) and len(inputs) == 1000\n",
    "\n",
    "    return inputs, out_lengths\n"
   ]
  },
  {
   "cell_type": "code",
   "execution_count": 4,
   "id": "79a2c5f1",
   "metadata": {},
   "outputs": [],
   "source": [
    "ds = datasets.load_dataset(\"lmsys/lmsys-chat-1m\", split=\"train[0:1483]\")"
   ]
  },
  {
   "cell_type": "code",
   "execution_count": 5,
   "id": "06c4d41f",
   "metadata": {},
   "outputs": [
    {
     "name": "stderr",
     "output_type": "stream",
     "text": [
      "Map (num_proc=64): 100%|██████████| 1000/1000 [00:14<00:00, 67.52 examples/s]\n"
     ]
    }
   ],
   "source": [
    "inputs, out_lengths_ds = process_dataset(ds, \"meta-llama/Llama-3.1-8B-Instruct\")"
   ]
  },
  {
   "cell_type": "code",
   "execution_count": 6,
   "id": "2d4854e6",
   "metadata": {},
   "outputs": [
    {
     "data": {
      "text/plain": [
       "[{'content': 'how can identity protection services help protect me against identity theft',\n",
       "  'role': 'user'}]"
      ]
     },
     "execution_count": 6,
     "metadata": {},
     "output_type": "execute_result"
    }
   ],
   "source": [
    "inputs[0]"
   ]
  },
  {
   "cell_type": "code",
   "execution_count": 7,
   "id": "7a6b0449",
   "metadata": {},
   "outputs": [],
   "source": [
    "def save_list_to_txt(items, filename):\n",
    "    \"\"\"\n",
    "    Save a list of items to a text file, one item per line.\n",
    "\n",
    "    :param items: Iterable of items (will be converted to strings)\n",
    "    :param filename: Path to the output .txt file\n",
    "    \"\"\"\n",
    "    with open(filename, 'w', encoding='utf-8') as f:\n",
    "        for item in items:\n",
    "            f.write(f\"{item}\\n\")\n"
   ]
  },
  {
   "cell_type": "code",
   "execution_count": 8,
   "id": "9f05d1fe",
   "metadata": {},
   "outputs": [],
   "source": [
    "save_list_to_txt(inputs, \"inputs_chat_format.txt\")"
   ]
  },
  {
   "cell_type": "code",
   "execution_count": 9,
   "id": "f8bd0705",
   "metadata": {},
   "outputs": [],
   "source": [
    "save_list_to_txt(out_lengths_ds, \"out_lenghts.txt\")"
   ]
  },
  {
   "cell_type": "code",
   "execution_count": 11,
   "id": "d95234f0",
   "metadata": {},
   "outputs": [
    {
     "data": {
      "text/plain": [
       "<BarContainer object of 1000 artists>"
      ]
     },
     "execution_count": 11,
     "metadata": {},
     "output_type": "execute_result"
    },
    {
     "data": {
      "image/png": "[encoded data removed]",
      "text/plain": [
       "<Figure size 2000x400 with 1 Axes>"
      ]
     },
     "metadata": {},
     "output_type": "display_data"
    }
   ],
   "source": [
    "plt.figure(figsize=(20, 4))\n",
    "\n",
    "plt.bar(range(len(out_lengths_ds)), sorted(out_lengths_ds))"
   ]
  },
  {
   "cell_type": "code",
   "execution_count": null,
   "id": "8f71a5ec",
   "metadata": {},
   "outputs": [],
   "source": [
    "from typing import List, Dict\n",
    "\n",
    "def to_llama_prompt(\n",
    "    messages: List[Dict[str, str]],\n",
    "    add_response_prompt: bool = True\n",
    ") -> str:\n",
    "    bos_token = \"<|begin_of_text|>\"\n",
    "    start_fmt = \"<|start_header_id|>{role}<|end_header_id|>\\n\"\n",
    "    end_msg = \"<|eot_id|>\"\n",
    "\n",
    "    parts = [bos_token]\n",
    "    for msg in messages:\n",
    "        role = msg[\"role\"]\n",
    "        content = msg[\"content\"].strip()\n",
    "        parts.append(start_fmt.format(role=role))\n",
    "        parts.append(content + end_msg)\n",
    "    if add_response_prompt:\n",
    "        parts.append(\"<|start_header_id|>assistant<|end_header_id|>\\n\")\n",
    "    return \"\".join(parts).replace('\\n', '\\\\n')\n"
   ]
  },
  {
   "cell_type": "code",
   "execution_count": null,
   "id": "efe071a1",
   "metadata": {},
   "outputs": [],
   "source": [
    "inputs_with_template = [to_llama_prompt(chat) for chat in inputs]"
   ]
  },
  {
   "cell_type": "code",
   "execution_count": null,
   "id": "c30906fb",
   "metadata": {},
   "outputs": [],
   "source": [
    "save_list_to_txt(inputs_with_template, \"inputs_with_template.txt\")"
   ]
  }
 ],
 "metadata": {
  "kernelspec": {
   "display_name": "base",
   "language": "python",
   "name": "python3"
  },
  "language_info": {
   "codemirror_mode": {
    "name": "ipython",
    "version": 3
   },
   "file_extension": ".py",
   "mimetype": "text/x-python",
   "name": "python",
   "nbconvert_exporter": "python",
   "pygments_lexer": "ipython3",
   "version": "3.12.8"
  }
 },
 "nbformat": 4,
 "nbformat_minor": 5
}
